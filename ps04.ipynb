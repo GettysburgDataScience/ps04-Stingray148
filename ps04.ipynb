{
 "cells": [
  {
   "cell_type": "markdown",
   "id": "83177ee9",
   "metadata": {},
   "source": [
    "## Replace this with your name and Section"
   ]
  },
  {
   "cell_type": "markdown",
   "id": "a1b00660-589c-4adf-91a5-c2875670a724",
   "metadata": {},
   "source": [
    "DS 256 Data Science Programming, Fall 2024\n",
    "\n",
    "Prof Eatai Roth\n",
    "\n",
    "## Problem Set 4\n",
    "Due 11/4/2024 by 5p"
   ]
  },
  {
   "cell_type": "markdown",
   "id": "34ee7898",
   "metadata": {},
   "source": [
    "### Problem 1\n",
    "Write a function ```greaterThan(A, lower_lim)``` that takes as an argument a numpy array A and a number lower_lim and returns an array with every entry less than or equal to lower_lim replaced by zero. That is to say, only the numbers strictly greater than lower_lim remain, the rest are 0."
   ]
  },
  {
   "cell_type": "code",
   "execution_count": 3,
   "id": "6c0848ae",
   "metadata": {},
   "outputs": [],
   "source": [
    "import numpy as np\n",
    "def greaterThan(A, lower_lim):\n",
    "    result = A.copy()\n",
    "    result[result <= lower_lim] = 0\n",
    "    return result\n",
    "\n",
    "\n"
   ]
  },
  {
   "cell_type": "code",
   "execution_count": 5,
   "id": "a57c2f50",
   "metadata": {},
   "outputs": [
    {
     "name": "stdout",
     "output_type": "stream",
     "text": [
      "You passed all the tests!\n"
     ]
    }
   ],
   "source": [
    "A = np.array([1, 2, 3, 4, 5, 6, 7, 8, 9])\n",
    "B = np.array([[-1, 1], [2, -2], [0, 3]])\n",
    "C = np.array([[101.1, 100, 99.9], [99.8, 100.1, 98.9], [103.2, 99, 98]])\n",
    "\n",
    "assert np.all(greaterThan(A, 5) == np.array([0, 0, 0, 0, 0, 6, 7, 8, 9]))\n",
    "assert np.all(greaterThan(B, 0) == np.array([[0, 1], [2, 0], [0, 3]]))\n",
    "assert np.all(greaterThan(C, 100) == np.array([[101.1, 0, 0], [0, 100.1, 0], [103.2, 0, 0]]))\n",
    "\n",
    "print(\"You passed all the tests!\")"
   ]
  },
  {
   "cell_type": "markdown",
   "id": "878a3744",
   "metadata": {},
   "source": [
    "### Problem 2\n",
    "Write a function ```subtractMean(A)``` that takes as an input the numpy array and returns the array with the mean of all the values subtracted from every element."
   ]
  },
  {
   "cell_type": "code",
   "execution_count": 7,
   "id": "c40ea21b",
   "metadata": {},
   "outputs": [],
   "source": [
    "import numpy as np \n",
    "def subtractMean(A):\n",
    "    mean = np.mean(A)\n",
    "    result = A - mean\n",
    "    return result\n"
   ]
  },
  {
   "cell_type": "markdown",
   "id": "8c36e69e",
   "metadata": {},
   "source": [
    "If the tests below aren't passing, check the values of A, B, and C. These should be the same as in the test for Problem 1. If the values in these arrays have changed, why might that be?"
   ]
  },
  {
   "cell_type": "code",
   "execution_count": 9,
   "id": "eee6cfea",
   "metadata": {},
   "outputs": [
    {
     "name": "stdout",
     "output_type": "stream",
     "text": [
      "You passed all the tests!\n"
     ]
    }
   ],
   "source": [
    "assert np.isclose(subtractMean(A), np.array([-4., -3., -2., -1.,  0.,  1.,  2.,  3.,  4.])).all()\n",
    "assert np.isclose(subtractMean(B), np.array([[-1.5,  0.5],[ 1.5, -2.5],[-0.5,  2.5]])).all()\n",
    "assert np.isclose(subtractMean(C), np.array([[ 1.1,  0. , -0.1],[-0.2,  0.1, -1.1],[ 3.2, -1. , -2. ]])).all()\n",
    "\n",
    "print(\"You passed all the tests!\")\n"
   ]
  },
  {
   "cell_type": "markdown",
   "id": "50e5f128",
   "metadata": {},
   "source": [
    "### Problem 3\n",
    "\n",
    "Write a function ```arrayEdges``` that takes as an input an array and returns a 1-D array of all the elements on the edges of the array starting at the upper left corner and working around clockwise. Do not repeat that first element. If the original array is not 2-D, print('Error') and return -1.\n",
    "\n",
    "*Hint*: Get the shape of the array as height and width, calculate the perimeter (remember not to double count the corners), and make an array of zeros the size of the perimeter. Then fill that array.\n",
    "\n",
    "*Hint 2*: The length of the shape of a 2-D array is 2.\n",
    "\n",
    "*Hint 3*: ```dA = A.dtype``` is the data type of A. ```np.zeros().astype(dA)``` creates an array of that type (if A has strings, this will make an array of '0')."
   ]
  },
  {
   "cell_type": "code",
   "execution_count": 15,
   "id": "6165dcb5",
   "metadata": {},
   "outputs": [],
   "source": [
    "import numpy as np\n",
    "def arrayEdges(A):\n",
    "    if A.ndim != 2:\n",
    "        print ('Error')\n",
    "        return -1\n",
    "\n",
    "    height, width = A.shape\n",
    "    perimeter = 2 * (height + width) - 4 \n",
    "\n",
    "    dA = A.dtype\n",
    "    edges = np.zeros(perimeter, dtype=dA)\n",
    "\n",
    "    ray = 0 \n",
    "    edges[ray:ray+width] = A[0, :]\n",
    "    ray += width\n",
    "\n",
    "    edges[ray:ray+height-1] = A[1:, -1]\n",
    "    ray += height -1\n",
    "\n",
    "    edges[ray:ray+width-1] = A[-1,-2::-1]\n",
    "    ray += width -1\n",
    "\n",
    "    edges[ray:ray+height-2] = A[-2:0:-1, 0]\n",
    "\n",
    "    return edges\n",
    "\n",
    "\n",
    "\n"
   ]
  },
  {
   "cell_type": "code",
   "execution_count": 17,
   "id": "ca5237a2",
   "metadata": {},
   "outputs": [
    {
     "name": "stdout",
     "output_type": "stream",
     "text": [
      "Error\n",
      "You passed all the tests! (disregard that it says Error above...it's supposed to do that)\n"
     ]
    }
   ],
   "source": [
    "'''Test your code'''\n",
    "\n",
    "X = np.array([[1, 2, 3], [4, 5, 6], [7, 8, 9]])\n",
    "Y = np.array([['you', 'got', 'this'],['!','correct','problem']])\n",
    "Z = np.array(['but','this','wont', 'work'])\n",
    "\n",
    "assert np.array(arrayEdges(X) == np.array([1, 2, 3, 6, 9, 8, 7, 4])).all()\n",
    "assert np.array(arrayEdges(Y) == np.array(['you', 'got', 'this', 'problem', 'correct', '!'])).all()\n",
    "assert arrayEdges(Z) == -1\n",
    "\n",
    "print(\"You passed all the tests! (disregard that it says Error above...it's supposed to do that)\")\n"
   ]
  },
  {
   "cell_type": "markdown",
   "id": "f943e82d",
   "metadata": {},
   "source": [
    "## Palmer's Penguins\n",
    "\n",
    "Below I've imported the Palmer's Penguins dataset, courtesy of Alison Horst's github. Fill in the blanks in Problem 4. You should add code cells below to write code to find the answers."
   ]
  },
  {
   "cell_type": "code",
   "execution_count": 19,
   "id": "ee42d632",
   "metadata": {},
   "outputs": [
    {
     "data": {
      "text/html": [
       "<div>\n",
       "<style scoped>\n",
       "    .dataframe tbody tr th:only-of-type {\n",
       "        vertical-align: middle;\n",
       "    }\n",
       "\n",
       "    .dataframe tbody tr th {\n",
       "        vertical-align: top;\n",
       "    }\n",
       "\n",
       "    .dataframe thead th {\n",
       "        text-align: right;\n",
       "    }\n",
       "</style>\n",
       "<table border=\"1\" class=\"dataframe\">\n",
       "  <thead>\n",
       "    <tr style=\"text-align: right;\">\n",
       "      <th></th>\n",
       "      <th>species</th>\n",
       "      <th>island</th>\n",
       "      <th>bill_length_mm</th>\n",
       "      <th>bill_depth_mm</th>\n",
       "      <th>flipper_length_mm</th>\n",
       "      <th>body_mass_g</th>\n",
       "      <th>sex</th>\n",
       "      <th>year</th>\n",
       "    </tr>\n",
       "  </thead>\n",
       "  <tbody>\n",
       "    <tr>\n",
       "      <th>0</th>\n",
       "      <td>Adelie</td>\n",
       "      <td>Torgersen</td>\n",
       "      <td>39.1</td>\n",
       "      <td>18.7</td>\n",
       "      <td>181.0</td>\n",
       "      <td>3750.0</td>\n",
       "      <td>male</td>\n",
       "      <td>2007</td>\n",
       "    </tr>\n",
       "    <tr>\n",
       "      <th>1</th>\n",
       "      <td>Adelie</td>\n",
       "      <td>Torgersen</td>\n",
       "      <td>39.5</td>\n",
       "      <td>17.4</td>\n",
       "      <td>186.0</td>\n",
       "      <td>3800.0</td>\n",
       "      <td>female</td>\n",
       "      <td>2007</td>\n",
       "    </tr>\n",
       "    <tr>\n",
       "      <th>2</th>\n",
       "      <td>Adelie</td>\n",
       "      <td>Torgersen</td>\n",
       "      <td>40.3</td>\n",
       "      <td>18.0</td>\n",
       "      <td>195.0</td>\n",
       "      <td>3250.0</td>\n",
       "      <td>female</td>\n",
       "      <td>2007</td>\n",
       "    </tr>\n",
       "    <tr>\n",
       "      <th>3</th>\n",
       "      <td>Adelie</td>\n",
       "      <td>Torgersen</td>\n",
       "      <td>NaN</td>\n",
       "      <td>NaN</td>\n",
       "      <td>NaN</td>\n",
       "      <td>NaN</td>\n",
       "      <td>NaN</td>\n",
       "      <td>2007</td>\n",
       "    </tr>\n",
       "    <tr>\n",
       "      <th>4</th>\n",
       "      <td>Adelie</td>\n",
       "      <td>Torgersen</td>\n",
       "      <td>36.7</td>\n",
       "      <td>19.3</td>\n",
       "      <td>193.0</td>\n",
       "      <td>3450.0</td>\n",
       "      <td>female</td>\n",
       "      <td>2007</td>\n",
       "    </tr>\n",
       "  </tbody>\n",
       "</table>\n",
       "</div>"
      ],
      "text/plain": [
       "  species     island  bill_length_mm  bill_depth_mm  flipper_length_mm  \\\n",
       "0  Adelie  Torgersen            39.1           18.7              181.0   \n",
       "1  Adelie  Torgersen            39.5           17.4              186.0   \n",
       "2  Adelie  Torgersen            40.3           18.0              195.0   \n",
       "3  Adelie  Torgersen             NaN            NaN                NaN   \n",
       "4  Adelie  Torgersen            36.7           19.3              193.0   \n",
       "\n",
       "   body_mass_g     sex  year  \n",
       "0       3750.0    male  2007  \n",
       "1       3800.0  female  2007  \n",
       "2       3250.0  female  2007  \n",
       "3          NaN     NaN  2007  \n",
       "4       3450.0  female  2007  "
      ]
     },
     "execution_count": 19,
     "metadata": {},
     "output_type": "execute_result"
    }
   ],
   "source": [
    "import pandas as pd\n",
    "\n",
    "pp_df = pd.read_csv('https://raw.githubusercontent.com/allisonhorst/palmerpenguins/main/inst/extdata/penguins.csv')\n",
    "pp_df.head()"
   ]
  },
  {
   "cell_type": "markdown",
   "id": "54a3fab2",
   "metadata": {},
   "source": [
    "### Problem 4\n",
    "\n",
    " 1. How many penguins were recorded? \n",
    "\n",
    "  - 342 penguins were recorded.\n",
    "\n",
    " 2. In terms of body mass, how big were the smallest and biggest penguins measured?\n",
    "\n",
    "  - The biggest penguin was 6300.0 g.\n",
    "  - The smallest penguin was 2700.0g.\n",
    "\n",
    " 3. What species of penguins were recorded and how many of each?\n",
    "\n",
    " - There are three different species. There are 151 Adelie, 123 Gentoo, and 68 Chinstrap.\n",
    " - \n",
    " -"
   ]
  },
  {
   "cell_type": "code",
   "execution_count": 25,
   "id": "9363dc66",
   "metadata": {},
   "outputs": [
    {
     "name": "stdout",
     "output_type": "stream",
     "text": [
      "Number of recorded penguins: 342\n"
     ]
    }
   ],
   "source": [
    "penguin_count = pp_df.shape[0]B\n",
    "print(f\"Number of recorded penguins: {penguin_count}\")\n"
   ]
  },
  {
   "cell_type": "code",
   "execution_count": 27,
   "id": "6e3a8cf7-6a72-40fd-b371-790fe8dd55fb",
   "metadata": {},
   "outputs": [
    {
     "name": "stdout",
     "output_type": "stream",
     "text": [
      "smallest pengu: 2700.0 g\n",
      "biggest pengu: 6300.0 g\n"
     ]
    }
   ],
   "source": [
    "min = pp_df['body_mass_g'].min()\n",
    "max = pp_df['body_mass_g'].max()\n",
    "\n",
    "print(f'smallest pengu: {min} g')\n",
    "print(f'biggest pengu: {max} g')"
   ]
  },
  {
   "cell_type": "code",
   "execution_count": 29,
   "id": "18194084-92f3-4063-9b01-063ff2a0487e",
   "metadata": {},
   "outputs": [
    {
     "name": "stdout",
     "output_type": "stream",
     "text": [
      "species\n",
      "Adelie       151\n",
      "Gentoo       123\n",
      "Chinstrap     68\n",
      "Name: count, dtype: int64\n"
     ]
    }
   ],
   "source": [
    "species = pp_df['species'].value_counts()\n",
    "print(species)"
   ]
  },
  {
   "cell_type": "markdown",
   "id": "f487bce0",
   "metadata": {},
   "source": [
    "### Problem 5\n",
    "\n",
    "Plot a histogram of the body masses of penguins grouped by species. Make sure to include a title, axis labels, and a legend."
   ]
  },
  {
   "cell_type": "code",
   "execution_count": 23,
   "id": "00b6d6ea",
   "metadata": {},
   "outputs": [
    {
     "data": {
      "image/png": "[encoded data removed]",
      "text/plain": [
       "<Figure size 1000x600 with 1 Axes>"
      ]
     },
     "metadata": {},
     "output_type": "display_data"
    }
   ],
   "source": [
    "import pandas as pd\n",
    "import matplotlib.pyplot as plt \n",
    "\n",
    "pp_df = pp_df.dropna(subset=['body_mass_g','species'])\n",
    "\n",
    "plt.figure(figsize=(10,6))\n",
    "\n",
    "for species in pp_df['species'].unique():\n",
    "    species_data = pp_df[pp_df['species'] == species]\n",
    "    plt.hist(species_data['body_mass_g'], bins=20, alpha=0.5, label=species)\n",
    "\n",
    "plt.title('Penguin Body Mass by Species')\n",
    "plt.xlabel('Body Mass (g)')\n",
    "plt.ylabel('Frequency')\n",
    "plt.legend(title='species')\n",
    "plt.show()\n",
    "\n",
    "\n",
    "\n"
   ]
  },
  {
   "cell_type": "markdown",
   "id": "25a9dd58-0368-4269-bf39-5d601ac58eb9",
   "metadata": {},
   "source": [
    "### Challenge Problem\n",
    "\n",
    "Write a function ```interleaveArrays``` that takes as arguments two numpy arrays A and B and return a new numpy array with the rows of A and B interleaved, starting with A. If you run out of rows from one matrix or the other complete the array with the remaining rows of the longer array.\n",
    "\n",
    "If the two arrays do not have the same number of columns, print('Error: Shapes of arrays are not compatible.') and return -1\n",
    "If the two arrays contain different data types, print('Error: Types of arrays are not compatible.') and return -2\n",
    "\n",
    "Example:\n",
    "\n",
    "```\n",
    "G = np.array([[1, 2, 3], [4, 5, 6]])\n",
    "H = np.array([[10, 20, 30], [100, 200, 300], [1000, 2000, 3000]])\n",
    "\n",
    "interleave(G,H)\n",
    "```\n",
    "returns\n",
    "```\n",
    "array([[1,2,3], [10,20,30], [4, 5, 6], [100, 200, 300], [1000, 2000, 3000]])\n",
    "```"
   ]
  },
  {
   "cell_type": "code",
   "execution_count": 31,
   "id": "825784c9-b952-450f-b667-13311d8e27cc",
   "metadata": {},
   "outputs": [],
   "source": [
    "import numpy as np\n",
    "def interleaveArrays(A,B):\n",
    "    if A.shape[1] != B.shape[1]:\n",
    "        print('Error: Shapes of arrays are not compatible.')\n",
    "        return -2\n",
    "    if A.dtype != B.dtype:\n",
    "        print('Error: Types of arrays are not compatible.')\n",
    "        return -2\n",
    "    \n"
   ]
  },
  {
   "cell_type": "code",
   "execution_count": null,
   "id": "d4820564-46ee-4a62-819d-c39d2490a7ba",
   "metadata": {},
   "outputs": [],
   "source": []
  }
 ],
 "metadata": {
  "kernelspec": {
   "display_name": "Python 3 (ipykernel)",
   "language": "python",
   "name": "python3"
  },
  "language_info": {
   "codemirror_mode": {
    "name": "ipython",
    "version": 3
   },
   "file_extension": ".py",
   "mimetype": "text/x-python",
   "name": "python",
   "nbconvert_exporter": "python",
   "pygments_lexer": "ipython3",
   "version": "3.12.4"
  }
 },
 "nbformat": 4,
 "nbformat_minor": 5
}
